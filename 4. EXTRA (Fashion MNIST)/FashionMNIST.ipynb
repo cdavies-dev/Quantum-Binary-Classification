{
 "cells": [
  {
   "cell_type": "code",
   "execution_count": 47,
   "metadata": {},
   "outputs": [],
   "source": [
    "import pennylane as qml\n",
    "import tensorflow as tf\n",
    "import sklearn.datasets\n",
    "from sklearn.datasets import fetch_openml\n",
    "import math\n",
    "import numpy as np\n",
    "\n",
    "from matplotlib import pyplot as plt\n",
    "\n",
    "from tensorflow.keras.datasets import fashion_mnist\n",
    "\n",
    "tf.keras.backend.set_floatx('float64')\n"
   ]
  },
  {
   "cell_type": "markdown",
   "metadata": {},
   "source": [
    "## Load and reduce the data\n",
    "\n",
    "Load the MNIST data and check number of training and test examples"
   ]
  },
  {
   "cell_type": "code",
   "execution_count": 48,
   "metadata": {},
   "outputs": [
    {
     "name": "stdout",
     "output_type": "stream",
     "text": [
      "Number of original training examples: 60000\n",
      "Number of original test examples: 10000\n"
     ]
    }
   ],
   "source": [
    "(x_train, y_train), (x_test, y_test) = fashion_mnist.load_data()\n",
    "\n",
    "# Rescale the images from [0,255] to the [0.0,1.0] range.\n",
    "x_train, x_test = x_train[..., np.newaxis]/255.0, x_test[..., np.newaxis]/255.0  # add colour dimension\n",
    "\n",
    "print(\"Number of original training examples:\", len(x_train))\n",
    "print(\"Number of original test examples:\", len(x_test))"
   ]
  },
  {
   "cell_type": "markdown",
   "metadata": {},
   "source": [
    "Create a function to filter out only 0 and 1"
   ]
  },
  {
   "cell_type": "code",
   "execution_count": 49,
   "metadata": {},
   "outputs": [],
   "source": [
    "def filter_01(x, y):\n",
    "    keep = (y == 0) | (y == 1)\n",
    "    x, y = x[keep], y[keep]\n",
    "    y = y == 0\n",
    "    return x,y"
   ]
  },
  {
   "cell_type": "code",
   "execution_count": 50,
   "metadata": {},
   "outputs": [
    {
     "name": "stdout",
     "output_type": "stream",
     "text": [
      "Number of filtered training examples: 12665\n",
      "Number of filtered test examples: 2115\n"
     ]
    }
   ],
   "source": [
    "x_train, y_train = filter_01(x_train, y_train)\n",
    "x_test, y_test = filter_01(x_test, y_test)\n",
    "\n",
    "print(\"Number of filtered training examples:\", len(x_train))\n",
    "print(\"Number of filtered test examples:\", len(x_test))"
   ]
  },
  {
   "cell_type": "markdown",
   "metadata": {},
   "source": [
    "Plot the original images"
   ]
  },
  {
   "cell_type": "code",
   "execution_count": 51,
   "metadata": {},
   "outputs": [
    {
     "data": {
      "image/png": "[encoded data removed]",
      "text/plain": [
       "<Figure size 640x480 with 1 Axes>"
      ]
     },
     "metadata": {},
     "output_type": "display_data"
    }
   ],
   "source": [
    "plt.imshow(x_train[0, :, :, 0], cmap='Greys')\n",
    "ax = plt.gca()\n",
    "ax.set_xticks([])\n",
    "ax.set_yticks([])\n",
    "plt.title(\"28x28 image of a 0\", fontsize=20)\n",
    "# save to file as pdf\n",
    "plt.savefig('28x28_MNIST_0.pdf', bbox_inches='tight', pad_inches=0)\n",
    "plt.show()"
   ]
  },
  {
   "cell_type": "markdown",
   "metadata": {},
   "source": [
    "Reduce images to 9x9"
   ]
  },
  {
   "cell_type": "code",
   "execution_count": 54,
   "metadata": {},
   "outputs": [],
   "source": [
    "x_train_small = tf.image.resize(x_train, (28,28)).numpy()\n",
    "x_test_small = tf.image.resize(x_test, (28,28)).numpy()"
   ]
  },
  {
   "cell_type": "code",
   "execution_count": 55,
   "metadata": {},
   "outputs": [
    {
     "data": {
      "image/png": "[encoded data removed]",
      "text/plain": [
       "<Figure size 640x480 with 1 Axes>"
      ]
     },
     "metadata": {},
     "output_type": "display_data"
    }
   ],
   "source": [
    "#plt.imshow(x_train_small[0,:,:,0], vmin=0, vmax=1, cmap='Greys')\n",
    "ax = plt.gca()\n",
    "ax.set_xticks([])\n",
    "ax.set_yticks([])\n",
    "plt.title(\"9x9 image of a 0\", fontsize=20)\n",
    "# save to file as pdf\n",
    "plt.savefig('9x9_MNIST_0.pdf', bbox_inches='tight', pad_inches=0)\n",
    "plt.show()"
   ]
  },
  {
   "cell_type": "markdown",
   "metadata": {},
   "source": [
    "Further reduce images to 9x1"
   ]
  },
  {
   "cell_type": "code",
   "execution_count": 56,
   "metadata": {},
   "outputs": [
    {
     "data": {
      "image/png": "[encoded data removed]",
      "text/plain": [
       "<Figure size 640x480 with 1 Axes>"
      ]
     },
     "metadata": {},
     "output_type": "display_data"
    }
   ],
   "source": [
    "x_train_small = x_train_small[:,:,:,:].reshape((-1,784))  # take only central slices\n",
    "x_test_small = x_test_small[:,:,:,:].reshape((-1,784))  # take only central slices\n",
    "\n",
    "plt.imshow(x_train_small[0,:].reshape((1,-1)), vmin=0, vmax=1, cmap='Greys')\n",
    "ax = plt.gca()\n",
    "ax.set_xticks([])\n",
    "ax.set_yticks([])\n",
    "plt.title(\"9x1 image of a 0\", fontsize=20)\n",
    "# save to file as pdf\n",
    "plt.savefig('9x1_MNIST_0.pdf', bbox_inches='tight', pad_inches=0)\n",
    "plt.show()\n"
   ]
  },
  {
   "cell_type": "markdown",
   "metadata": {},
   "source": [
    "## Set up the Quantum Neural Network\n",
    "\n",
    "Create quantum circuit using pennylane qnode, then conver this to a Keras layer to make a Keras model"
   ]
  },
  {
   "cell_type": "code",
   "execution_count": 57,
   "metadata": {},
   "outputs": [
    {
     "name": "stdout",
     "output_type": "stream",
     "text": [
      "1/1 [==============================] - 1s 525ms/step\n",
      "Model: \"QNN\"\n",
      "_________________________________________________________________\n",
      " Layer (type)                Output Shape              Param #   \n",
      "=================================================================\n",
      " inputs (InputLayer)         [(None, 784)]             0         \n",
      "                                                                 \n",
      " quantumLayer (KerasLayer)   (None, 1)                 114       \n",
      "                                                                 \n",
      "=================================================================\n",
      "Total params: 114\n",
      "Trainable params: 114\n",
      "Non-trainable params: 0\n",
      "_________________________________________________________________\n",
      "None\n"
     ]
    }
   ],
   "source": [
    "n_qubits = 11\n",
    "n_layers = 2\n",
    "dev = qml.device(\"default.qubit\", wires=n_qubits)\n",
    "\n",
    "@qml.qnode(dev, diff_method=\"adjoint\")\n",
    "\n",
    "def qnode(inputs, weights):\n",
    "    inputs= frqi(inputs)\n",
    "    qml.AmplitudeEmbedding(inputs, wires = range(n_qubits), pad_with = 0.0, normalize = True, do_queue = True, id = None)\n",
    "\n",
    "\n",
    "    for ii in range(n_qubits):\n",
    "        qml.RY(np.pi * inputs[ii], wires = ii)\n",
    "\n",
    "    for jj in range(n_layers):\n",
    "        for ii in range(n_qubits - 1):\n",
    "            qml.RZ(weights[jj, 2 * ii, 0], wires = 0)\n",
    "            qml.RY(weights[jj, 2 * ii, 1], wires = 0)\n",
    "            qml.RZ(weights[jj, 2 * ii, 2], wires = 0)\n",
    "\n",
    "            qml.RZ(weights[jj, 2 * ii + 1, 0], wires = ii + 1)\n",
    "            qml.RY(weights[jj, 2 * ii + 1, 1], wires = ii + 1)\n",
    "            qml.RZ(weights[jj, 2 * ii + 1, 2], wires = ii + 1)\n",
    "\n",
    "            qml.CNOT(wires = [ii + 1, 0])\n",
    "\n",
    "        qml.RZ(weights[jj, 2 * (n_qubits - 1), 0], wires = 0)\n",
    "        qml.RY(weights[jj, 2 * (n_qubits - 1), 1], wires = 0)\n",
    "        qml.RZ(weights[jj, 2 * (n_qubits - 1), 2], wires = 0)\n",
    "\n",
    "    return qml.expval(qml.PauliZ(0))\n",
    "\n",
    "\n",
    "def frqi(inputarray):\n",
    "    frqiarray = []\n",
    "    for myinput in inputarray:\n",
    "        frqiarray.extend([(1/math.sqrt(2))*np.cos(myinput), (1/math.sqrt(2))*np.sin(myinput)])\n",
    "    return np.array(frqiarray)\n",
    "\n",
    "\n",
    "weight_shapes = {'weights': (n_layers, 2 * (n_qubits - 1) + 1, 3)}\n",
    "qlayer = qml.qnn.KerasLayer(qnode, weight_shapes, output_dim=1, name=\"quantumLayer\")\n",
    "\n",
    "inputs = tf.keras.Input(shape=(784,), name=\"inputs\")\n",
    "outputs = qlayer(inputs)\n",
    "model = tf.keras.Model(inputs=inputs, outputs=outputs, name=\"QNN\")\n",
    "\n",
    "model.predict(x_train_small[0,:].reshape((1,-1)))\n",
    "print(model.summary())"
   ]
  },
  {
   "cell_type": "markdown",
   "metadata": {},
   "source": [
    "Redefine the classification values to match the Hinge loss"
   ]
  },
  {
   "cell_type": "code",
   "execution_count": 58,
   "metadata": {},
   "outputs": [],
   "source": [
    "y_train_hinge = 2.0*y_train-1.0\n",
    "y_test_hinge = 2.0*y_test-1.0"
   ]
  },
  {
   "cell_type": "markdown",
   "metadata": {},
   "source": [
    "Define the hinge accuracy"
   ]
  },
  {
   "cell_type": "code",
   "execution_count": 59,
   "metadata": {},
   "outputs": [],
   "source": [
    "def hinge_accuracy(y_true, y_pred):\n",
    "    y_true = tf.squeeze(y_true) > 0.0\n",
    "    y_pred = tf.squeeze(y_pred) > 0.0\n",
    "    result = tf.cast(y_true == y_pred, tf.float32)\n",
    "\n",
    "    return tf.reduce_mean(result)"
   ]
  },
  {
   "cell_type": "markdown",
   "metadata": {},
   "source": [
    "## Compile and train the model\n",
    "\n",
    "Compile the model using the hinge loss and accuracy and the Adam optimiser"
   ]
  },
  {
   "cell_type": "code",
   "execution_count": 60,
   "metadata": {},
   "outputs": [],
   "source": [
    "model.compile(\n",
    "    loss=tf.keras.losses.Hinge(),\n",
    "    optimizer=tf.keras.optimizers.Adam(),\n",
    "    metrics=[hinge_accuracy])"
   ]
  },
  {
   "cell_type": "code",
   "execution_count": 43,
   "metadata": {},
   "outputs": [
    {
     "name": "stdout",
     "output_type": "stream",
     "text": [
      "512\n",
      "Epoch 1/20\n",
      "16/16 [==============================] - 244s 15s/step - loss: 0.9878 - hinge_accuracy: 0.5254\n",
      "Epoch 2/20\n",
      "16/16 [==============================] - 251s 16s/step - loss: 0.9855 - hinge_accuracy: 0.5254\n",
      "Epoch 3/20\n",
      "16/16 [==============================] - 245s 15s/step - loss: 0.9832 - hinge_accuracy: 0.5254\n",
      "Epoch 4/20\n",
      "16/16 [==============================] - 245s 15s/step - loss: 0.9814 - hinge_accuracy: 0.5254\n",
      "Epoch 5/20\n",
      "16/16 [==============================] - 244s 15s/step - loss: 0.9798 - hinge_accuracy: 0.5254\n",
      "Epoch 6/20\n",
      "16/16 [==============================] - 243s 15s/step - loss: 0.9779 - hinge_accuracy: 0.5254\n",
      "Epoch 7/20\n",
      "16/16 [==============================] - 245s 15s/step - loss: 0.9767 - hinge_accuracy: 0.5254\n",
      "Epoch 8/20\n",
      "16/16 [==============================] - 244s 15s/step - loss: 0.9753 - hinge_accuracy: 0.5254\n",
      "Epoch 9/20\n",
      "16/16 [==============================] - 251s 16s/step - loss: 0.9740 - hinge_accuracy: 0.5254\n",
      "Epoch 10/20\n",
      "16/16 [==============================] - 246s 15s/step - loss: 0.9728 - hinge_accuracy: 0.5254\n",
      "Epoch 11/20\n",
      "16/16 [==============================] - 245s 15s/step - loss: 0.9719 - hinge_accuracy: 0.5254\n",
      "Epoch 12/20\n",
      "16/16 [==============================] - 253s 16s/step - loss: 0.9707 - hinge_accuracy: 0.5254\n",
      "Epoch 13/20\n",
      "16/16 [==============================] - 243s 15s/step - loss: 0.9696 - hinge_accuracy: 0.5254\n",
      "Epoch 14/20\n",
      "16/16 [==============================] - 245s 15s/step - loss: 0.9687 - hinge_accuracy: 0.5254\n",
      "Epoch 15/20\n",
      "16/16 [==============================] - 243s 15s/step - loss: 0.9680 - hinge_accuracy: 0.5254\n",
      "Epoch 16/20\n",
      "16/16 [==============================] - 244s 15s/step - loss: 0.9671 - hinge_accuracy: 0.5254\n",
      "Epoch 17/20\n",
      "16/16 [==============================] - 253s 16s/step - loss: 0.9661 - hinge_accuracy: 0.5254\n",
      "Epoch 18/20\n",
      "16/16 [==============================] - 242s 15s/step - loss: 0.9655 - hinge_accuracy: 0.5254\n",
      "Epoch 19/20\n",
      "16/16 [==============================] - 243s 15s/step - loss: 0.9645 - hinge_accuracy: 0.5254\n",
      "Epoch 20/20\n",
      "16/16 [==============================] - 243s 15s/step - loss: 0.9637 - hinge_accuracy: 0.5254\n",
      "63/63 [==============================] - 516s 8s/step - loss: 0.9937 - hinge_accuracy: 0.5005\n"
     ]
    }
   ],
   "source": [
    "EPOCHS = 20\n",
    "BATCH_SIZE = 32\n",
    "\n",
    "NUM_EXAMPLES = 512 #x_train_small.shape[0]\n",
    "print(NUM_EXAMPLES)\n",
    "\n",
    "x_train_sub = x_train_small[:NUM_EXAMPLES,:]\n",
    "y_train_hinge_sub = y_train_hinge[:NUM_EXAMPLES]\n",
    "\n",
    "x_test_sub = x_test_small[:,:]\n",
    "y_test_sub = y_test[:]\n",
    "\n",
    "\n",
    "\n",
    "qnn_history_1layer = model.fit(\n",
    "      x_train_sub, y_train_hinge_sub,\n",
    "      batch_size=BATCH_SIZE,\n",
    "      epochs=EPOCHS,\n",
    "      verbose=1)#,\n",
    "      #validation_data=(x_test_sub, y_test_sub))\n",
    "\n",
    "model.save('FASHION frq.h5')\n",
    "\n",
    "qnn_results_1layer = model.evaluate(x_test_sub, y_test_sub)"
   ]
  },
  {
   "cell_type": "code",
   "execution_count": 44,
   "metadata": {},
   "outputs": [],
   "source": [
    "import pandas as pd\n",
    "\n",
    "history_1l_df = pd.DataFrame(qnn_history_1layer.history)\n",
    "with open('history_fashfrq.csv', mode = 'w') as f:\n",
    "    history_1l_df.to_csv(f)"
   ]
  },
  {
   "cell_type": "markdown",
   "metadata": {},
   "source": [
    "Create and train a 2 layer version of the QNN"
   ]
  },
  {
   "cell_type": "markdown",
   "metadata": {},
   "source": [
    "## Plot the results!"
   ]
  }
 ],
 "metadata": {
  "kernelspec": {
   "display_name": "Python 3 (ipykernel)",
   "language": "python",
   "name": "python3"
  },
  "language_info": {
   "codemirror_mode": {
    "name": "ipython",
    "version": 3
   },
   "file_extension": ".py",
   "mimetype": "text/x-python",
   "name": "python",
   "nbconvert_exporter": "python",
   "pygments_lexer": "ipython3",
   "version": "3.9.16"
  },
  "vscode": {
   "interpreter": {
    "hash": "66a612e4ee5d9343e2fda4842cd4535190425ea2d31d59f514fa54a2d33459fb"
   }
  }
 },
 "nbformat": 4,
 "nbformat_minor": 2
}
